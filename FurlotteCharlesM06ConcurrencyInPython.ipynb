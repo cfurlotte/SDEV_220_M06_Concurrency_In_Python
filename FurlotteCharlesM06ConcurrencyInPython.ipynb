{
 "cells": [
  {
   "cell_type": "code",
   "execution_count": 28,
   "id": "c6cd628d",
   "metadata": {},
   "outputs": [],
   "source": [
    "#13.1\n",
    "import datetime as dt\n",
    "#get todays date\n",
    "day  = dt.date.today()\n",
    "#change day to string so that it can be written to file\n",
    "day = str(day)\n",
    "#write string to file\n",
    "file = open(\"today.txt\", \"w\")\n",
    "file.write(day)\n",
    "#close file to not cause problems later\n",
    "file.close()"
   ]
  },
  {
   "cell_type": "code",
   "execution_count": 37,
   "id": "e25ec0b2",
   "metadata": {},
   "outputs": [],
   "source": [
    "#13.2\n",
    "#open to read the today.txt file\n",
    "file = open(\"today.txt\", \"r\")\n",
    "#set the file to a var\n",
    "today_string = file.read()\n",
    "#close the fiel to not cause problems later\n",
    "file.close()\n"
   ]
  },
  {
   "cell_type": "code",
   "execution_count": 38,
   "id": "f935a665",
   "metadata": {},
   "outputs": [],
   "source": [
    "#13.3\n",
    "#parse the info from today_date\n",
    "today_date = dt.datetime.strptime(today_string, \"%Y-%m-%d\").date()"
   ]
  },
  {
   "cell_type": "code",
   "execution_count": null,
   "id": "96eb3ca1",
   "metadata": {},
   "outputs": [],
   "source": []
  }
 ],
 "metadata": {
  "kernelspec": {
   "display_name": "Python 3 (ipykernel)",
   "language": "python",
   "name": "python3"
  },
  "language_info": {
   "codemirror_mode": {
    "name": "ipython",
    "version": 3
   },
   "file_extension": ".py",
   "mimetype": "text/x-python",
   "name": "python",
   "nbconvert_exporter": "python",
   "pygments_lexer": "ipython3",
   "version": "3.11.5"
  }
 },
 "nbformat": 4,
 "nbformat_minor": 5
}
